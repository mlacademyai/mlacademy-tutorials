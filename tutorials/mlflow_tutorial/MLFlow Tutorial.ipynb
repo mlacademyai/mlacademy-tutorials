{
 "cells": [
  {
   "cell_type": "code",
   "execution_count": 46,
   "id": "a512b9ec-3873-4da8-a16a-605ea755808b",
   "metadata": {},
   "outputs": [],
   "source": [
    "import numpy as np\n",
    "import pandas as pd\n",
    "import matplotlib.pyplot as plt\n",
    "import joblib\n",
    "from pathlib import Path\n",
    "import uuid\n",
    "import mlflow\n",
    "import optuna\n",
    "import mlflow.sklearn\n",
    "from catboost import CatBoostRegressor\n",
    "from mlflow.tracking import MlflowClient\n",
    "from mlflow.models import infer_signature\n",
    "from sklearn.linear_model import Lasso\n",
    "from sklearn.metrics import mean_squared_error\n",
    "from sklearn.model_selection import train_test_split\n",
    "from typing import Dict, Union\n",
    "from sklearn.preprocessing import StandardScaler"
   ]
  },
  {
   "cell_type": "markdown",
   "id": "efdd6522-0245-4583-accf-1b27c58ea77f",
   "metadata": {},
   "source": [
    "# Starting ML Tracking Server"
   ]
  },
  {
   "cell_type": "markdown",
   "id": "2a064223-10c7-475e-aecd-9bae90b237ea",
   "metadata": {},
   "source": [
    "In the terminal, navigate to the notebook folder and the start the ml server\n",
    "\n",
    "Run in the terminal (command line): mlflow server --host 127.0.0.1 --port 8080\n",
    "\n",
    "**This is what it does:**\n",
    "\n",
    "1. Starts the MLflow Tracking Server\n",
    "A dedicated process that manages and serves your MLflow experiments.\n",
    "\n",
    "2. Provides a Web UI\n",
    "Accessible at http://127.0.0.1:8080 (or localhost:8080), where you can browse experiments, runs, parameters, metrics, and artifacts.\n",
    "\n",
    "3. Exposes a Tracking API Endpoint\n",
    "Other scripts or notebooks can log directly to this server if you set - **mlflow.set_tracking_uri(\"http://127.0.0.1:8080\")**\n",
    "\n",
    "4. MLflow automatically creates a folder mlruns/ in your working directory the first time you log something.\n",
    "Inside mlruns/, it creates subfolders for:\n",
    "\n",
    "- each experiment (default is 0)\n",
    "\n",
    "- each run within that experiment"
   ]
  },
  {
   "cell_type": "markdown",
   "id": "b50c8aa0-0b1a-471e-9d0b-39a09ce395fc",
   "metadata": {},
   "source": [
    "# Setting URI"
   ]
  },
  {
   "cell_type": "code",
   "execution_count": 2,
   "id": "b7384755-4370-4e02-8c07-e2170704aecb",
   "metadata": {},
   "outputs": [],
   "source": [
    "# Set the tracking uri\n",
    "mlflow.set_tracking_uri(uri=\"http://127.0.0.1:8080\")"
   ]
  },
  {
   "cell_type": "markdown",
   "id": "2bed6c30",
   "metadata": {},
   "source": [
    "What it does:\n",
    "\n",
    "1. It tells your MLflow client (your script/notebook) where to send all logging data (experiments, runs, params, metrics, artifacts).\n",
    "\n",
    "3. Since our host is local, it will still write to mlruns, but here you could configure a remote host URI."
   ]
  },
  {
   "cell_type": "code",
   "execution_count": 3,
   "id": "29bf7ea4-2c2d-4ec1-9ee5-82152447c270",
   "metadata": {},
   "outputs": [
    {
     "name": "stdout",
     "output_type": "stream",
     "text": [
      "Current Tracking URI: http://127.0.0.1:8080\n"
     ]
    }
   ],
   "source": [
    "print(\"Current Tracking URI:\", mlflow.get_tracking_uri())"
   ]
  },
  {
   "cell_type": "markdown",
   "id": "586f53a5-ec53-429c-9444-3b6e7ed51b4e",
   "metadata": {},
   "source": [
    "# Fitting the model"
   ]
  },
  {
   "cell_type": "markdown",
   "id": "dc342a7a-840f-424c-ac09-86b0f1b2817c",
   "metadata": {},
   "source": [
    "Prepare the data, split it into training, validation, and test sets, and train a simple LASSO model with a regularization hyperparameter of alpha = 0.1."
   ]
  },
  {
   "cell_type": "code",
   "execution_count": 6,
   "id": "d581e782-0705-4037-b949-87123cc75ecf",
   "metadata": {},
   "outputs": [
    {
     "name": "stdout",
     "output_type": "stream",
     "text": [
      "RMSE val = 0.6356127117266147, RMSE test = 0.638554128638353\n"
     ]
    }
   ],
   "source": [
    "# Load datasets\n",
    "df = pd.read_csv('WineQT.csv', sep=',')\n",
    "\n",
    "# Split the data into training, validation, and test sets\n",
    "train, test = train_test_split(df, test_size=0.25, random_state=42)\n",
    "x_train = train.drop([\"quality\"], axis=1).values\n",
    "y_train = train[[\"quality\"]].values.ravel()\n",
    "x_test= test.drop([\"quality\"], axis=1).values\n",
    "y_test = test[[\"quality\"]].values.ravel()\n",
    "\n",
    "# Split the data into training and validation sets\n",
    "x_train, x_val, y_train, y_val = train_test_split(\n",
    "    x_train, y_train, test_size=0.2, random_state=42\n",
    ")\n",
    "\n",
    "# Setting hyperparameter\n",
    "alpha = 0.1\n",
    "model = Lasso(alpha=alpha)\n",
    "model.fit(x_train, y_train)\n",
    "\n",
    "# Predicting\n",
    "y_pred_val = model.predict(x_val)\n",
    "y_pred_test = model.predict(x_test)\n",
    "\n",
    "# Calculating metrics\n",
    "rmse_val = np.sqrt(mean_squared_error(y_val, y_pred_val))\n",
    "rmse_test = np.sqrt(mean_squared_error(y_test, y_pred_test))\n",
    "print(f'RMSE val = {rmse_val}, RMSE test = {rmse_test}')"
   ]
  },
  {
   "cell_type": "markdown",
   "id": "15ccd335",
   "metadata": {},
   "source": [
    "What we have just done is we conducted an experimental run! We set a hyperparameter, trained a model, and got validation and test scores (happy face). Now, our job is to log this to MLflow."
   ]
  },
  {
   "cell_type": "markdown",
   "id": "e928ce83",
   "metadata": {},
   "source": [
    "# Running first experiment"
   ]
  },
  {
   "cell_type": "markdown",
   "id": "2fae1084",
   "metadata": {},
   "source": [
    "To do that, we need to run the command:\n",
    "\n",
    "mlflow.set_experiment(\"Wine Quality Experiment\")\n",
    "\n",
    "If we do so, in the UI (http://127.0.0.1:8080), we will see that the experiment is created."
   ]
  },
  {
   "cell_type": "code",
   "execution_count": 7,
   "id": "bb376f49-e4ce-4309-8acd-eb45553dd430",
   "metadata": {},
   "outputs": [
    {
     "data": {
      "text/plain": [
       "<Experiment: artifact_location='mlflow-artifacts:/677703609984501005', creation_time=1756279706345, experiment_id='677703609984501005', last_update_time=1756279706345, lifecycle_stage='active', name='Wine Quality Regression', tags={}>"
      ]
     },
     "execution_count": 7,
     "metadata": {},
     "output_type": "execute_result"
    }
   ],
   "source": [
    "# Set the experiment name - it also creates an experiment if it doesn't exist\n",
    "mlflow.set_experiment(\"Wine Quality Regression\")"
   ]
  },
  {
   "cell_type": "markdown",
   "id": "a5594999",
   "metadata": {},
   "source": [
    "Now, all we need to do is log the parameters, metrics, and the model."
   ]
  },
  {
   "cell_type": "code",
   "execution_count": 8,
   "id": "389d7191-26c1-4858-8259-4a397ef38899",
   "metadata": {},
   "outputs": [
    {
     "name": "stdout",
     "output_type": "stream",
     "text": [
      "🏃 View run lasso_baseline at: http://127.0.0.1:8080/#/experiments/677703609984501005/runs/b7e37b95c783488d9fbaddf0986074d3\n",
      "🧪 View experiment at: http://127.0.0.1:8080/#/experiments/677703609984501005\n"
     ]
    }
   ],
   "source": [
    "# Setting hyperparameters\n",
    "params = {\n",
    "    'alpha': model.alpha\n",
    "}\n",
    "\n",
    "# Start an MLflow run\n",
    "with mlflow.start_run(run_name='lasso_baseline'):\n",
    "    # Log the hyperparameters\n",
    "    mlflow.log_params(params)\n",
    "    # Log the loss metric\n",
    "    mlflow.log_metric(\"rmse_val\", rmse_val)\n",
    "    mlflow.log_metric(\"rmse_test\", rmse_test)\n",
    "    # Set a tag that we can use to remind ourselves what this run was for\n",
    "    mlflow.set_tag(\"model_version\", \"baseline\")\n",
    "\n",
    "    model_name = \"wine_model_lasso\"\n",
    "    # Log the model\n",
    "    model_info = mlflow.sklearn.log_model(\n",
    "        sk_model=model,\n",
    "        name=model_name,\n",
    "        input_example=x_train,\n",
    "    )"
   ]
  },
  {
   "cell_type": "markdown",
   "id": "7035862a",
   "metadata": {},
   "source": [
    "You can click the links above to see the run and experiment in the Tracking Server UI."
   ]
  },
  {
   "cell_type": "markdown",
   "id": "3cca3d99",
   "metadata": {},
   "source": [
    "# Running MLflow experiments with different models"
   ]
  },
  {
   "cell_type": "markdown",
   "id": "439dbaae",
   "metadata": {},
   "source": [
    "Now, let's make our code a bit more modular, so we can efficiently run experiments for different models without code repetition. We make 2 functions: train_model and log_run."
   ]
  },
  {
   "cell_type": "code",
   "execution_count": 9,
   "id": "cf275328",
   "metadata": {},
   "outputs": [],
   "source": [
    "def train_model(df: pd.DataFrame, params: dict, model='Lasso'):\n",
    "    \"\"\"\n",
    "    Train a model and return the metrics\n",
    "    \"\"\"\n",
    "    # Split the data into training, validation, and test sets\n",
    "    train, test = train_test_split(df, test_size=0.25, random_state=42)\n",
    "    x_train = train.drop([\"quality\"], axis=1).values\n",
    "    y_train = train[[\"quality\"]].values.ravel()\n",
    "    x_test= test.drop([\"quality\"], axis=1).values\n",
    "    y_test = test[[\"quality\"]].values.ravel()\n",
    "\n",
    "    # Split the data into training and validation sets\n",
    "    x_train, x_val, y_train, y_val = train_test_split(\n",
    "        x_train, y_train, test_size=0.2, random_state=42\n",
    "    )\n",
    "\n",
    "    if model == 'Lasso':\n",
    "        model = Lasso(**params)\n",
    "    elif model == 'CatBoost':\n",
    "        model = CatBoostRegressor(**params)\n",
    "    else:\n",
    "        raise ValueError(f\"Model {model} not supported\")\n",
    "\n",
    "    # Fitting the model\n",
    "    model.fit(x_train, y_train)\n",
    "    # Predicting\n",
    "    y_pred_val = model.predict(x_val)\n",
    "    y_pred_test = model.predict(x_test)\n",
    "\n",
    "    # Calculating metrics\n",
    "    rmse_val = np.sqrt(mean_squared_error(y_val, y_pred_val))\n",
    "    rmse_test = np.sqrt(mean_squared_error(y_test, y_pred_test))\n",
    "    print(f'RMSE val = {rmse_val}, RMSE test = {rmse_test}')\n",
    "    return model,rmse_val, rmse_test"
   ]
  },
  {
   "cell_type": "code",
   "execution_count": 10,
   "id": "a0f3ff19",
   "metadata": {},
   "outputs": [],
   "source": [
    "def log_run(\n",
    "        run_name: str,\n",
    "        params: dict,\n",
    "        metrics: dict,\n",
    "        tags: dict,\n",
    "        trained_model,\n",
    "        model_type='Lasso',\n",
    "        input_example=None,\n",
    "        registered_model_name=None):\n",
    "    \"\"\"\n",
    "    Log a run to MLflow\n",
    "    \"\"\"\n",
    "    mlflow.log_params(params)\n",
    "    mlflow.log_metrics(metrics)\n",
    "    mlflow.set_tag(\"model_version\", run_name)\n",
    "    mlflow.set_tags(tags)\n",
    "\n",
    "    if model_type == 'Lasso':\n",
    "        # Log sklearn model\n",
    "        model_info = mlflow.sklearn.log_model(\n",
    "            sk_model=trained_model,\n",
    "            name=\"wine_model_lasso\",\n",
    "            input_example=input_example,\n",
    "            registered_model_name=registered_model_name,\n",
    "        )\n",
    "    elif model_type == 'CatBoost':\n",
    "        # Log CatBoost model\n",
    "        model_info = mlflow.catboost.log_model(\n",
    "            cb_model=trained_model,\n",
    "            name=\"wine_model_catboost\",\n",
    "            input_example=input_example,\n",
    "            registered_model_name=registered_model_name,\n",
    "        )\n",
    "    else:\n",
    "        raise ValueError(f\"Model type {model_type} not supported\")\n",
    "    \n",
    "    return model_info"
   ]
  },
  {
   "cell_type": "markdown",
   "id": "f652f8f6",
   "metadata": {},
   "source": [
    "### Running LASSO"
   ]
  },
  {
   "cell_type": "code",
   "execution_count": 11,
   "id": "782b5edc",
   "metadata": {},
   "outputs": [
    {
     "name": "stdout",
     "output_type": "stream",
     "text": [
      "RMSE val = 0.6356127117266147, RMSE test = 0.638554128638353\n"
     ]
    },
    {
     "name": "stderr",
     "output_type": "stream",
     "text": [
      "\u001b[31m2025/08/27 12:12:38 WARNING mlflow.models.model: Model logged without a signature and input example. Please set `input_example` parameter when logging the model to auto infer the model signature.\u001b[0m\n"
     ]
    },
    {
     "name": "stdout",
     "output_type": "stream",
     "text": [
      "🏃 View run lasso_baseline at: http://127.0.0.1:8080/#/experiments/677703609984501005/runs/d71ef0989d044ea88e66c7cf1384ae25\n",
      "🧪 View experiment at: http://127.0.0.1:8080/#/experiments/677703609984501005\n"
     ]
    }
   ],
   "source": [
    "# Setting hyperparameters\n",
    "\n",
    "lasso_params = {\n",
    "    'alpha': 0.1,\n",
    "    'max_iter': 1000,\n",
    "    'random_state': 42\n",
    "}\n",
    "\n",
    "# Train the model\n",
    "trained_model, rmse_val, rmse_test = train_model(df, lasso_params, model='Lasso')\n",
    "\n",
    "# Start an MLflow run\n",
    "with mlflow.start_run(run_name='lasso_baseline'):\n",
    "    # Prepare metrics and tags\n",
    "    metrics = {\n",
    "        'rmse_val': rmse_val,\n",
    "        'rmse_test': rmse_test\n",
    "    }\n",
    "    \n",
    "    # Let's add some tags to the run\n",
    "    tags = {\n",
    "        'model_version': 'baseline',\n",
    "        'experiment_type': 'regression',\n",
    "    }\n",
    "    \n",
    "    # Log everything using our function\n",
    "    model_info = log_run(\n",
    "        run_name=\"lasso_baseline\",\n",
    "        params=lasso_params,\n",
    "        metrics=metrics,\n",
    "        tags=tags,\n",
    "        trained_model=trained_model,\n",
    "        model_type='Lasso',\n",
    "    )"
   ]
  },
  {
   "cell_type": "markdown",
   "id": "ea7fb090",
   "metadata": {},
   "source": [
    " Now, let's run and log an experiment with a CatBoost model."
   ]
  },
  {
   "cell_type": "code",
   "execution_count": 12,
   "id": "57be525d",
   "metadata": {},
   "outputs": [
    {
     "name": "stdout",
     "output_type": "stream",
     "text": [
      "RMSE val = 0.5558687336128091, RMSE test = 0.5729224664412881\n"
     ]
    },
    {
     "name": "stderr",
     "output_type": "stream",
     "text": [
      "\u001b[31m2025/08/27 12:12:45 WARNING mlflow.models.model: Model logged without a signature and input example. Please set `input_example` parameter when logging the model to auto infer the model signature.\u001b[0m\n"
     ]
    },
    {
     "name": "stdout",
     "output_type": "stream",
     "text": [
      "🏃 View run catboost_baseline at: http://127.0.0.1:8080/#/experiments/677703609984501005/runs/486d46f4b7ce4f49ae6a96bee7e25fd0\n",
      "🧪 View experiment at: http://127.0.0.1:8080/#/experiments/677703609984501005\n"
     ]
    }
   ],
   "source": [
    "# Setting hyperparameters for CatBoost\n",
    "catboost_params = {\n",
    "    'iterations': 100,\n",
    "    'learning_rate': 0.1,\n",
    "    'depth': 6,\n",
    "    'random_seed': 42,\n",
    "    'verbose': False\n",
    "}\n",
    "\n",
    "# Train the model\n",
    "trained_model, rmse_val, rmse_test = train_model(df, catboost_params, model='CatBoost')\n",
    "\n",
    "# Start an MLflow run\n",
    "with mlflow.start_run(run_name='catboost_baseline'):\n",
    "    # Prepare metrics and tags\n",
    "    metrics = {\n",
    "        'rmse_val': rmse_val,\n",
    "        'rmse_test': rmse_test\n",
    "    }\n",
    "    \n",
    "    tags = {\n",
    "        'model_version': 'baseline',\n",
    "        'experiment_type': 'regression',\n",
    "        'data_version': 'v1',\n",
    "        'algorithm': 'gradient_boosting'\n",
    "    }\n",
    "    \n",
    "    # Log everything using our function\n",
    "    model_info = log_run(\n",
    "        run_name=\"catboost_baseline\",\n",
    "        params=catboost_params,\n",
    "        metrics=metrics,\n",
    "        tags=tags,\n",
    "        trained_model=trained_model,\n",
    "        model_type='CatBoost',\n",
    "    )"
   ]
  },
  {
   "cell_type": "markdown",
   "id": "ea9cb3a1",
   "metadata": {},
   "source": [
    "Now, i the UI (http://127.0.0.1:8080/#/experiments) we can compare 3 different experimental runs - 2 LASSO and 1 CatBoost. To do that, select all the runs and press Compare as we have done above. Since the parameters are different for the models, the visual comparison of parameters might not tell much. However, we can compare the validation and test RMSE."
   ]
  },
  {
   "cell_type": "markdown",
   "id": "c316e4dd",
   "metadata": {},
   "source": [
    "# Searching for the best model"
   ]
  },
  {
   "cell_type": "markdown",
   "id": "8c83d63e",
   "metadata": {},
   "source": [
    "Up to now, we could find the best model manually using the UI, which is great. However, when developing ML pipelines and registering the best model to be deployed, we need to be able to find this model programmatically. Here's how to do that.\n",
    "\n",
    "First, we need to find the experiment ID for which we want to select the best models. We can do that using search_experiments() method."
   ]
  },
  {
   "cell_type": "code",
   "execution_count": 13,
   "id": "3e1d8b68-6cd3-4df1-a218-825e4d9e67d2",
   "metadata": {},
   "outputs": [
    {
     "name": "stdout",
     "output_type": "stream",
     "text": [
      "Experiment 'Wine Quality Regression' has ID: 677703609984501005\n"
     ]
    }
   ],
   "source": [
    "# Get experiment by name\n",
    "experiment_name = \"Wine Quality Regression\"\n",
    "experiment = mlflow.get_experiment_by_name(experiment_name)\n",
    "\n",
    "if experiment:\n",
    "    experiment_id = experiment.experiment_id\n",
    "    print(f\"Experiment '{experiment_name}' has ID: {experiment_id}\")\n",
    "else:\n",
    "    print(f\"Experiment '{experiment_name}' not found\")"
   ]
  },
  {
   "cell_type": "markdown",
   "id": "e342b266",
   "metadata": {},
   "source": [
    "As we know the experiment ID, we can check what the top models are for this experiment and select the best model. To select the best model, we can just select the one at the top row of the resulting top_models dataframe. In our case, this is the CatBoost model."
   ]
  },
  {
   "cell_type": "code",
   "execution_count": 18,
   "id": "982e8a2c-bccf-4833-98fb-5cfd88e2eeba",
   "metadata": {},
   "outputs": [
    {
     "data": {
      "text/plain": [
       "artifact_location         mlflow-artifacts:/677703609984501005/models/m-...\n",
       "creation_timestamp                                            1756282364254\n",
       "experiment_id                                            677703609984501005\n",
       "last_updated_timestamp                                        1756282365608\n",
       "metrics                   [<Metric: dataset_digest=None, dataset_name=No...\n",
       "model_id                                 m-62cd8f0cdcbc4fdca59cf6c46b7e3379\n",
       "model_type                                                                 \n",
       "name                                                    wine_model_catboost\n",
       "params                    {'depth': '6', 'learning_rate': '0.1', 'verbos...\n",
       "source_run_id                              486d46f4b7ce4f49ae6a96bee7e25fd0\n",
       "status                                                                READY\n",
       "status_message                                                             \n",
       "tags                      {'mlflow.user': 'timurbikmuhametov', 'mlflow.s...\n",
       "Name: 0, dtype: object"
      ]
     },
     "execution_count": 18,
     "metadata": {},
     "output_type": "execute_result"
    }
   ],
   "source": [
    "# Find high-performing models across experiments\n",
    "top_models = mlflow.search_logged_models(\n",
    "    experiment_ids=[str(experiment_id)],\n",
    "    filter_string=\"metrics.rmse_test < 0.9\",\n",
    "    order_by=[{\"field_name\": \"metrics.rmse_val\", \"ascending\": True}],\n",
    ")\n",
    "best_model = top_models.iloc[0]\n",
    "best_model"
   ]
  },
  {
   "cell_type": "code",
   "execution_count": 19,
   "id": "f578d1f5-5362-4160-bf13-e71b1e91352b",
   "metadata": {},
   "outputs": [
    {
     "data": {
      "application/vnd.jupyter.widget-view+json": {
       "model_id": "76d9169466bb40bf9dbff20d6738fdc4",
       "version_major": 2,
       "version_minor": 0
      },
      "text/plain": [
       "Downloading artifacts:   0%|          | 0/5 [00:00<?, ?it/s]"
      ]
     },
     "metadata": {},
     "output_type": "display_data"
    },
    {
     "name": "stdout",
     "output_type": "stream",
     "text": [
      "RMSE on test set: 0.5729224664412881\n"
     ]
    }
   ],
   "source": [
    "# Load the best model for inference\n",
    "loaded_model = mlflow.pyfunc.load_model(f\"models:/{best_model.model_id}\")\n",
    "y_pred = loaded_model.predict(x_test)\n",
    "rmse_test = np.sqrt(mean_squared_error(y_test, y_pred))\n",
    "print(f\"RMSE on test set: {rmse_test}\")"
   ]
  },
  {
   "cell_type": "markdown",
   "id": "9efa1a5e-036d-4482-8fdf-3abee47c2901",
   "metadata": {},
   "source": [
    "## Child runs"
   ]
  },
  {
   "cell_type": "markdown",
   "id": "abd28a75",
   "metadata": {},
   "source": [
    "MLflow tracks experiments as named groups where all your related runs live. As we have seen up to now, each \"run\" is one training session where you log parameters, metrics, and artifacts. Parent and Child Runs add a hierarchical layer to this setup.\n",
    "\n",
    "**Why Should You Care?**\n",
    "\n",
    "1. Organizational Clarity.\n",
    "\n",
    "With a parent-child structure, related runs are automatically grouped together. When you're running a hyperparameter search using a Bayesian approach on a particular model architecture, every iteration gets logged as a child run, while the overarching Bayesian optimization process becomes the parent run. This eliminates the guesswork of figuring out which runs belong together.\n",
    "\n",
    "2. Enhanced Traceability.\n",
    "\n",
    "When working on complex projects with multiple variants, child runs represent individual products or model variations. This makes it straightforward to trace back results, metrics, or artifacts to their specific run configuration. Need to find that exact setup that gave you the best performance? Just follow the hierarchy.\n",
    "\n",
    "3. Improved Scalability.\n",
    "\n",
    "As your experiments grow in number and complexity, having a nested structure ensures your tracking remains manageable. Navigating through a structured hierarchy is much more efficient than scrolling through a flat list of hundreds or thousands of runs. This becomes particularly valuable as projects scale up.\n",
    "\n",
    "Now, as the concept of Parent and Child runs is clear, let's see how we can implement this.\n",
    "\n",
    " "
   ]
  },
  {
   "cell_type": "markdown",
   "id": "5967ed85",
   "metadata": {},
   "source": [
    "### Grid search for LASSO"
   ]
  },
  {
   "cell_type": "markdown",
   "id": "8a9a7a5c",
   "metadata": {},
   "source": [
    "Let me show you how this works with our LASSO example. Say you're testing a LASSO model with different alpha values - from 1 to 0.001.\n",
    "\n",
    "To do that, we create a function log_run_child.\n",
    "\n",
    "This is a very similar function to log_run, but here we change the names of the run at each run and also specify parameter nested=True. This parameter indicates to MLflow that the runs are child runs.\n",
    "\n",
    "Then we specify the parent run, and in a loop we run the child runs."
   ]
  },
  {
   "cell_type": "code",
   "execution_count": 20,
   "id": "581b226e",
   "metadata": {},
   "outputs": [],
   "source": [
    "def log_run_child(\n",
    "        run_name: str,\n",
    "        params: dict,\n",
    "        metrics: dict,\n",
    "        tags: dict,\n",
    "        trained_model,\n",
    "        model_type='Lasso',\n",
    "        input_example=None,\n",
    "        registered_model_name=None,\n",
    "        iteration=None\n",
    "        ):\n",
    "    \"\"\"\n",
    "    Log a run to MLflow\n",
    "    \"\"\"\n",
    "    with mlflow.start_run(run_name=f\"{run_name}_iteration_{iteration}\", nested=True):\n",
    "        mlflow.log_params(params)\n",
    "        mlflow.log_metrics(metrics)\n",
    "        mlflow.set_tag(\"model_version\", run_name)\n",
    "        mlflow.set_tags(tags)\n",
    "\n",
    "        if model_type == 'Lasso':\n",
    "            # Log sklearn model\n",
    "            model_info = mlflow.sklearn.log_model(\n",
    "                name=f\"{run_name}_iteration_{iteration}_wine_model_lasso\",\n",
    "                sk_model=trained_model,\n",
    "                input_example=input_example,\n",
    "                registered_model_name=registered_model_name,\n",
    "            )\n",
    "        elif model_type == 'CatBoost':\n",
    "            # Log CatBoost model\n",
    "            model_info = mlflow.catboost.log_model(\n",
    "                name=f\"{run_name}_iteration_{iteration}_wine_model_catboost\",\n",
    "                cb_model=trained_model,\n",
    "                input_example=input_example,\n",
    "                registered_model_name=registered_model_name,\n",
    "            )\n",
    "        else:\n",
    "            raise ValueError(f\"Model type {model_type} not supported\")\n",
    "    \n",
    "    return model_info"
   ]
  },
  {
   "cell_type": "code",
   "execution_count": 22,
   "id": "df474585",
   "metadata": {},
   "outputs": [
    {
     "name": "stdout",
     "output_type": "stream",
     "text": [
      "RMSE val = 0.7546000742808262, RMSE test = 0.7374379792573892\n"
     ]
    },
    {
     "name": "stderr",
     "output_type": "stream",
     "text": [
      "\u001b[31m2025/08/27 12:29:22 WARNING mlflow.models.model: Model logged without a signature and input example. Please set `input_example` parameter when logging the model to auto infer the model signature.\u001b[0m\n"
     ]
    },
    {
     "name": "stdout",
     "output_type": "stream",
     "text": [
      "🏃 View run Lasso_child_runs_1_0_point_001_iteration_0 at: http://127.0.0.1:8080/#/experiments/677703609984501005/runs/2b23fea4928e45f589818b9195f6893e\n",
      "🧪 View experiment at: http://127.0.0.1:8080/#/experiments/677703609984501005\n",
      "RMSE val = 0.7541178879815691, RMSE test = 0.7366319489063405\n"
     ]
    },
    {
     "name": "stderr",
     "output_type": "stream",
     "text": [
      "\u001b[31m2025/08/27 12:29:23 WARNING mlflow.models.model: Model logged without a signature and input example. Please set `input_example` parameter when logging the model to auto infer the model signature.\u001b[0m\n"
     ]
    },
    {
     "name": "stdout",
     "output_type": "stream",
     "text": [
      "🏃 View run Lasso_child_runs_1_0_point_001_iteration_1 at: http://127.0.0.1:8080/#/experiments/677703609984501005/runs/6b4fa35858d94675b330377776bca249\n",
      "🧪 View experiment at: http://127.0.0.1:8080/#/experiments/677703609984501005\n",
      "RMSE val = 0.6762060849767165, RMSE test = 0.6743324662326164\n"
     ]
    },
    {
     "name": "stderr",
     "output_type": "stream",
     "text": [
      "\u001b[31m2025/08/27 12:29:24 WARNING mlflow.models.model: Model logged without a signature and input example. Please set `input_example` parameter when logging the model to auto infer the model signature.\u001b[0m\n"
     ]
    },
    {
     "name": "stdout",
     "output_type": "stream",
     "text": [
      "🏃 View run Lasso_child_runs_1_0_point_001_iteration_2 at: http://127.0.0.1:8080/#/experiments/677703609984501005/runs/e7b291e9adde4104962d9b22d62e355b\n",
      "🧪 View experiment at: http://127.0.0.1:8080/#/experiments/677703609984501005\n",
      "RMSE val = 0.6356127117266147, RMSE test = 0.638554128638353\n"
     ]
    },
    {
     "name": "stderr",
     "output_type": "stream",
     "text": [
      "\u001b[31m2025/08/27 12:29:25 WARNING mlflow.models.model: Model logged without a signature and input example. Please set `input_example` parameter when logging the model to auto infer the model signature.\u001b[0m\n"
     ]
    },
    {
     "name": "stdout",
     "output_type": "stream",
     "text": [
      "🏃 View run Lasso_child_runs_1_0_point_001_iteration_3 at: http://127.0.0.1:8080/#/experiments/677703609984501005/runs/14ef8c4559f4450ab7d85f51a89605de\n",
      "🧪 View experiment at: http://127.0.0.1:8080/#/experiments/677703609984501005\n",
      "RMSE val = 0.6255559065512195, RMSE test = 0.628923587071802\n"
     ]
    },
    {
     "name": "stderr",
     "output_type": "stream",
     "text": [
      "\u001b[31m2025/08/27 12:29:26 WARNING mlflow.models.model: Model logged without a signature and input example. Please set `input_example` parameter when logging the model to auto infer the model signature.\u001b[0m\n"
     ]
    },
    {
     "name": "stdout",
     "output_type": "stream",
     "text": [
      "🏃 View run Lasso_child_runs_1_0_point_001_iteration_4 at: http://127.0.0.1:8080/#/experiments/677703609984501005/runs/5b688735920d46da9cd5549a3fe514c9\n",
      "🧪 View experiment at: http://127.0.0.1:8080/#/experiments/677703609984501005\n",
      "RMSE val = 0.5921306582799698, RMSE test = 0.6128059355142866\n"
     ]
    },
    {
     "name": "stderr",
     "output_type": "stream",
     "text": [
      "\u001b[31m2025/08/27 12:29:27 WARNING mlflow.models.model: Model logged without a signature and input example. Please set `input_example` parameter when logging the model to auto infer the model signature.\u001b[0m\n"
     ]
    },
    {
     "name": "stdout",
     "output_type": "stream",
     "text": [
      "🏃 View run Lasso_child_runs_1_0_point_001_iteration_5 at: http://127.0.0.1:8080/#/experiments/677703609984501005/runs/e5c8a127b74249889c5a42ebec319d24\n",
      "🧪 View experiment at: http://127.0.0.1:8080/#/experiments/677703609984501005\n",
      "RMSE val = 0.5803887110911056, RMSE test = 0.605750602168249\n"
     ]
    },
    {
     "name": "stderr",
     "output_type": "stream",
     "text": [
      "\u001b[31m2025/08/27 12:29:28 WARNING mlflow.models.model: Model logged without a signature and input example. Please set `input_example` parameter when logging the model to auto infer the model signature.\u001b[0m\n"
     ]
    },
    {
     "name": "stdout",
     "output_type": "stream",
     "text": [
      "🏃 View run Lasso_child_runs_1_0_point_001_iteration_6 at: http://127.0.0.1:8080/#/experiments/677703609984501005/runs/705e262f9f5d4be9b86f8314a50545cd\n",
      "🧪 View experiment at: http://127.0.0.1:8080/#/experiments/677703609984501005\n",
      "RMSE val = 0.5771690201433481, RMSE test = 0.6060892593315526\n"
     ]
    },
    {
     "name": "stderr",
     "output_type": "stream",
     "text": [
      "\u001b[31m2025/08/27 12:29:29 WARNING mlflow.models.model: Model logged without a signature and input example. Please set `input_example` parameter when logging the model to auto infer the model signature.\u001b[0m\n"
     ]
    },
    {
     "name": "stdout",
     "output_type": "stream",
     "text": [
      "🏃 View run Lasso_child_runs_1_0_point_001_iteration_7 at: http://127.0.0.1:8080/#/experiments/677703609984501005/runs/434d538010544e48bc8ac7320fdd9413\n",
      "🧪 View experiment at: http://127.0.0.1:8080/#/experiments/677703609984501005\n",
      "RMSE val = 0.5726741757910615, RMSE test = 0.6072882839308418\n"
     ]
    },
    {
     "name": "stderr",
     "output_type": "stream",
     "text": [
      "\u001b[31m2025/08/27 12:29:31 WARNING mlflow.models.model: Model logged without a signature and input example. Please set `input_example` parameter when logging the model to auto infer the model signature.\u001b[0m\n"
     ]
    },
    {
     "name": "stdout",
     "output_type": "stream",
     "text": [
      "🏃 View run Lasso_child_runs_1_0_point_001_iteration_8 at: http://127.0.0.1:8080/#/experiments/677703609984501005/runs/312cc97c6ee84949a2687235d0d80a97\n",
      "🧪 View experiment at: http://127.0.0.1:8080/#/experiments/677703609984501005\n",
      "RMSE val = 0.5713198123541341, RMSE test = 0.6098083649853254\n"
     ]
    },
    {
     "name": "stderr",
     "output_type": "stream",
     "text": [
      "\u001b[31m2025/08/27 12:29:32 WARNING mlflow.models.model: Model logged without a signature and input example. Please set `input_example` parameter when logging the model to auto infer the model signature.\u001b[0m\n"
     ]
    },
    {
     "name": "stdout",
     "output_type": "stream",
     "text": [
      "🏃 View run Lasso_child_runs_1_0_point_001_iteration_9 at: http://127.0.0.1:8080/#/experiments/677703609984501005/runs/2f622e286947475f9e923d00e407b05a\n",
      "🧪 View experiment at: http://127.0.0.1:8080/#/experiments/677703609984501005\n",
      "🏃 View run Lasso_child_runs_1_0_point_001 at: http://127.0.0.1:8080/#/experiments/677703609984501005/runs/2b990ac2f7d84084a78fda542eea08ed\n",
      "🧪 View experiment at: http://127.0.0.1:8080/#/experiments/677703609984501005\n"
     ]
    }
   ],
   "source": [
    "# Specify several alphas\n",
    "alpha_range = np.logspace(0, -3, num=10).tolist()\n",
    "run_name = 'Lasso_child_runs_1_0_point_001'\n",
    "\n",
    "with mlflow.start_run(run_name=run_name):\n",
    "    for idx, alpha in enumerate(alpha_range):\n",
    "        params = {'alpha': alpha}\n",
    "        # Train the model\n",
    "        trained_model, rmse_val, rmse_test = train_model(df, params, model='Lasso')\n",
    "        # Prepare metrics\n",
    "        metrics = {'rmse_val': rmse_val, 'rmse_test': rmse_test}\n",
    "    # Log everything using our function\n",
    "        model_info = log_run_child(\n",
    "            run_name=run_name,\n",
    "            params=params,\n",
    "            metrics=metrics,\n",
    "            tags=tags,\n",
    "            trained_model=trained_model,\n",
    "            model_type='Lasso',\n",
    "            iteration=idx\n",
    "        )"
   ]
  },
  {
   "cell_type": "markdown",
   "id": "cc0f12aa-3661-40c4-8d27-1ec4a10663e2",
   "metadata": {},
   "source": [
    "### Child runs with Optuna"
   ]
  },
  {
   "cell_type": "code",
   "execution_count": 23,
   "id": "9c8fb089",
   "metadata": {},
   "outputs": [],
   "source": [
    "def objective(\n",
    "    trial: optuna.Trial, \n",
    "    x_train: np.ndarray, \n",
    "    y_train: np.ndarray, \n",
    "    x_val: np.ndarray, \n",
    "    y_val: np.ndarray, \n",
    "    x_test: np.ndarray, \n",
    "    y_test: np.ndarray\n",
    ") -> float:\n",
    "    np.random.seed(42)\n",
    "    \"\"\"Optimize CatBoost hyperparameters using Optuna.\"\"\"\n",
    "    # Sample CatBoost hyperparameters (fixed iterations for faster trials)\n",
    "    params: Dict[str, Union[int, float, bool]] = {\n",
    "        'iterations': 100,  # Fixed iterations for trials\n",
    "        'learning_rate': trial.suggest_float('learning_rate', 0.01, 0.3, log=True),\n",
    "        'depth': trial.suggest_int('depth', 4, 10),\n",
    "        'l2_leaf_reg': trial.suggest_float('l2_leaf_reg', 1, 10),\n",
    "        'random_seed': 42,\n",
    "        'verbose': False\n",
    "    }\n",
    "    \n",
    "    model: CatBoostRegressor = CatBoostRegressor(**params)\n",
    "    model.fit(x_train, y_train)\n",
    "    \n",
    "    # Predictions\n",
    "    y_pred_val: np.ndarray = model.predict(x_val)\n",
    "    y_pred_test: np.ndarray = model.predict(x_test)\n",
    "    \n",
    "    # Errors\n",
    "    rmse_val: float = np.sqrt(mean_squared_error(y_val, y_pred_val))\n",
    "    rmse_test: float = np.sqrt(mean_squared_error(y_test, y_pred_test))\n",
    "    \n",
    "    # Log the run with log_run_child\n",
    "    log_run_child(\n",
    "        run_name=run_name,\n",
    "        params=params,\n",
    "        metrics={'rmse_val': rmse_val, 'rmse_test': rmse_test},\n",
    "        tags={'model_version': 'catboost_optuna', 'trial': trial.number},\n",
    "        trained_model=model,\n",
    "        model_type='CatBoost',\n",
    "        iteration=trial.number\n",
    "    )\n",
    "    \n",
    "    return round(rmse_val, 3)"
   ]
  },
  {
   "cell_type": "code",
   "execution_count": 28,
   "id": "52b5229c",
   "metadata": {
    "scrolled": true
   },
   "outputs": [
    {
     "name": "stderr",
     "output_type": "stream",
     "text": [
      "[I 2025-08-27 12:45:04,344] A new study created in memory with name: no-name-b318f382-8968-4262-a3bb-7076cfca9dd2\n",
      "\u001b[31m2025/08/27 12:45:06 WARNING mlflow.models.model: Model logged without a signature and input example. Please set `input_example` parameter when logging the model to auto infer the model signature.\u001b[0m\n",
      "[I 2025-08-27 12:45:06,307] Trial 0 finished with value: 0.596 and parameters: {'learning_rate': 0.03574712922600244, 'depth': 10, 'l2_leaf_reg': 7.587945476302646}. Best is trial 0 with value: 0.596.\n"
     ]
    },
    {
     "name": "stdout",
     "output_type": "stream",
     "text": [
      "🏃 View run Catboost_optuna_iteration_0 at: http://127.0.0.1:8080/#/experiments/677703609984501005/runs/2c626324209446a78e8ee5eea3ed66e6\n",
      "🧪 View experiment at: http://127.0.0.1:8080/#/experiments/677703609984501005\n"
     ]
    },
    {
     "name": "stderr",
     "output_type": "stream",
     "text": [
      "\u001b[31m2025/08/27 12:45:07 WARNING mlflow.models.model: Model logged without a signature and input example. Please set `input_example` parameter when logging the model to auto infer the model signature.\u001b[0m\n",
      "[I 2025-08-27 12:45:07,610] Trial 1 finished with value: 0.574 and parameters: {'learning_rate': 0.07661100707771368, 'depth': 5, 'l2_leaf_reg': 2.403950683025824}. Best is trial 1 with value: 0.574.\n"
     ]
    },
    {
     "name": "stdout",
     "output_type": "stream",
     "text": [
      "🏃 View run Catboost_optuna_iteration_1 at: http://127.0.0.1:8080/#/experiments/677703609984501005/runs/4444b476f0ca4abfab158e9ee50414ac\n",
      "🧪 View experiment at: http://127.0.0.1:8080/#/experiments/677703609984501005\n"
     ]
    },
    {
     "name": "stderr",
     "output_type": "stream",
     "text": [
      "\u001b[31m2025/08/27 12:45:09 WARNING mlflow.models.model: Model logged without a signature and input example. Please set `input_example` parameter when logging the model to auto infer the model signature.\u001b[0m\n",
      "[I 2025-08-27 12:45:09,236] Trial 2 finished with value: 0.653 and parameters: {'learning_rate': 0.012184186502221764, 'depth': 10, 'l2_leaf_reg': 6.41003510568888}. Best is trial 1 with value: 0.574.\n"
     ]
    },
    {
     "name": "stdout",
     "output_type": "stream",
     "text": [
      "🏃 View run Catboost_optuna_iteration_2 at: http://127.0.0.1:8080/#/experiments/677703609984501005/runs/d7fe33241362485fac54ea0c4be486ab\n",
      "🧪 View experiment at: http://127.0.0.1:8080/#/experiments/677703609984501005\n"
     ]
    },
    {
     "name": "stderr",
     "output_type": "stream",
     "text": [
      "\u001b[31m2025/08/27 12:45:10 WARNING mlflow.models.model: Model logged without a signature and input example. Please set `input_example` parameter when logging the model to auto infer the model signature.\u001b[0m\n",
      "[I 2025-08-27 12:45:10,459] Trial 3 finished with value: 0.566 and parameters: {'learning_rate': 0.11114989443094977, 'depth': 4, 'l2_leaf_reg': 9.72918866945795}. Best is trial 3 with value: 0.566.\n"
     ]
    },
    {
     "name": "stdout",
     "output_type": "stream",
     "text": [
      "🏃 View run Catboost_optuna_iteration_3 at: http://127.0.0.1:8080/#/experiments/677703609984501005/runs/56c398f1ea6c493d97d500f24d12055d\n",
      "🧪 View experiment at: http://127.0.0.1:8080/#/experiments/677703609984501005\n"
     ]
    },
    {
     "name": "stderr",
     "output_type": "stream",
     "text": [
      "\u001b[31m2025/08/27 12:45:11 WARNING mlflow.models.model: Model logged without a signature and input example. Please set `input_example` parameter when logging the model to auto infer the model signature.\u001b[0m\n",
      "[I 2025-08-27 12:45:11,738] Trial 4 finished with value: 0.568 and parameters: {'learning_rate': 0.16967533607196555, 'depth': 5, 'l2_leaf_reg': 2.636424704863906}. Best is trial 3 with value: 0.566.\n"
     ]
    },
    {
     "name": "stdout",
     "output_type": "stream",
     "text": [
      "🏃 View run Catboost_optuna_iteration_4 at: http://127.0.0.1:8080/#/experiments/677703609984501005/runs/fa967ebc37374e66bf015d9a8fb5c7b1\n",
      "🧪 View experiment at: http://127.0.0.1:8080/#/experiments/677703609984501005\n"
     ]
    },
    {
     "name": "stderr",
     "output_type": "stream",
     "text": [
      "\u001b[31m2025/08/27 12:45:12 WARNING mlflow.models.model: Model logged without a signature and input example. Please set `input_example` parameter when logging the model to auto infer the model signature.\u001b[0m\n",
      "[I 2025-08-27 12:45:13,024] Trial 5 finished with value: 0.601 and parameters: {'learning_rate': 0.018659959624904916, 'depth': 6, 'l2_leaf_reg': 5.72280788469014}. Best is trial 3 with value: 0.566.\n"
     ]
    },
    {
     "name": "stdout",
     "output_type": "stream",
     "text": [
      "🏃 View run Catboost_optuna_iteration_5 at: http://127.0.0.1:8080/#/experiments/677703609984501005/runs/2a79f44db183425697fe1224dc6575d8\n",
      "🧪 View experiment at: http://127.0.0.1:8080/#/experiments/677703609984501005\n"
     ]
    },
    {
     "name": "stderr",
     "output_type": "stream",
     "text": [
      "\u001b[31m2025/08/27 12:45:14 WARNING mlflow.models.model: Model logged without a signature and input example. Please set `input_example` parameter when logging the model to auto infer the model signature.\u001b[0m\n",
      "[I 2025-08-27 12:45:14,348] Trial 6 finished with value: 0.571 and parameters: {'learning_rate': 0.04345454109729477, 'depth': 6, 'l2_leaf_reg': 6.506676052501415}. Best is trial 3 with value: 0.566.\n"
     ]
    },
    {
     "name": "stdout",
     "output_type": "stream",
     "text": [
      "🏃 View run Catboost_optuna_iteration_6 at: http://127.0.0.1:8080/#/experiments/677703609984501005/runs/6f1206ec9f3b43138e5af0f705f99ce1\n",
      "🧪 View experiment at: http://127.0.0.1:8080/#/experiments/677703609984501005\n"
     ]
    },
    {
     "name": "stderr",
     "output_type": "stream",
     "text": [
      "\u001b[31m2025/08/27 12:45:15 WARNING mlflow.models.model: Model logged without a signature and input example. Please set `input_example` parameter when logging the model to auto infer the model signature.\u001b[0m\n",
      "[I 2025-08-27 12:45:15,625] Trial 7 finished with value: 0.605 and parameters: {'learning_rate': 0.01607123851203988, 'depth': 6, 'l2_leaf_reg': 4.297256589643226}. Best is trial 3 with value: 0.566.\n"
     ]
    },
    {
     "name": "stdout",
     "output_type": "stream",
     "text": [
      "🏃 View run Catboost_optuna_iteration_7 at: http://127.0.0.1:8080/#/experiments/677703609984501005/runs/60c3dc880fed45c2bea7434e7e2966cf\n",
      "🧪 View experiment at: http://127.0.0.1:8080/#/experiments/677703609984501005\n"
     ]
    },
    {
     "name": "stderr",
     "output_type": "stream",
     "text": [
      "\u001b[31m2025/08/27 12:45:16 WARNING mlflow.models.model: Model logged without a signature and input example. Please set `input_example` parameter when logging the model to auto infer the model signature.\u001b[0m\n",
      "[I 2025-08-27 12:45:17,007] Trial 8 finished with value: 0.565 and parameters: {'learning_rate': 0.04717052037625178, 'depth': 9, 'l2_leaf_reg': 2.7970640394252375}. Best is trial 8 with value: 0.565.\n"
     ]
    },
    {
     "name": "stdout",
     "output_type": "stream",
     "text": [
      "🏃 View run Catboost_optuna_iteration_8 at: http://127.0.0.1:8080/#/experiments/677703609984501005/runs/b4ba7ecb7f67490396fd3f31db58848a\n",
      "🧪 View experiment at: http://127.0.0.1:8080/#/experiments/677703609984501005\n"
     ]
    },
    {
     "name": "stderr",
     "output_type": "stream",
     "text": [
      "\u001b[31m2025/08/27 12:45:18 WARNING mlflow.models.model: Model logged without a signature and input example. Please set `input_example` parameter when logging the model to auto infer the model signature.\u001b[0m\n",
      "[I 2025-08-27 12:45:18,414] Trial 9 finished with value: 0.562 and parameters: {'learning_rate': 0.05748924681991978, 'depth': 8, 'l2_leaf_reg': 1.4180537144799796}. Best is trial 9 with value: 0.562.\n"
     ]
    },
    {
     "name": "stdout",
     "output_type": "stream",
     "text": [
      "🏃 View run Catboost_optuna_iteration_9 at: http://127.0.0.1:8080/#/experiments/677703609984501005/runs/a729952c1d99445e87799d8d92de3875\n",
      "🧪 View experiment at: http://127.0.0.1:8080/#/experiments/677703609984501005\n"
     ]
    },
    {
     "name": "stderr",
     "output_type": "stream",
     "text": [
      "\u001b[31m2025/08/27 12:45:19 WARNING mlflow.models.model: Model logged without a signature and input example. Please set `input_example` parameter when logging the model to auto infer the model signature.\u001b[0m\n",
      "[I 2025-08-27 12:45:19,763] Trial 10 finished with value: 0.598 and parameters: {'learning_rate': 0.24893231508461813, 'depth': 8, 'l2_leaf_reg': 1.0679258738466384}. Best is trial 9 with value: 0.562.\n"
     ]
    },
    {
     "name": "stdout",
     "output_type": "stream",
     "text": [
      "🏃 View run Catboost_optuna_iteration_10 at: http://127.0.0.1:8080/#/experiments/677703609984501005/runs/52f6a06d4b3845c0a4c8872fab2efa93\n",
      "🧪 View experiment at: http://127.0.0.1:8080/#/experiments/677703609984501005\n"
     ]
    },
    {
     "name": "stderr",
     "output_type": "stream",
     "text": [
      "\u001b[31m2025/08/27 12:45:21 WARNING mlflow.models.model: Model logged without a signature and input example. Please set `input_example` parameter when logging the model to auto infer the model signature.\u001b[0m\n",
      "[I 2025-08-27 12:45:21,130] Trial 11 finished with value: 0.574 and parameters: {'learning_rate': 0.03253425182484387, 'depth': 8, 'l2_leaf_reg': 3.5584186834693132}. Best is trial 9 with value: 0.562.\n"
     ]
    },
    {
     "name": "stdout",
     "output_type": "stream",
     "text": [
      "🏃 View run Catboost_optuna_iteration_11 at: http://127.0.0.1:8080/#/experiments/677703609984501005/runs/9ce8d2781828436f9d60ebc750d1a50b\n",
      "🧪 View experiment at: http://127.0.0.1:8080/#/experiments/677703609984501005\n"
     ]
    },
    {
     "name": "stderr",
     "output_type": "stream",
     "text": [
      "\u001b[31m2025/08/27 12:45:22 WARNING mlflow.models.model: Model logged without a signature and input example. Please set `input_example` parameter when logging the model to auto infer the model signature.\u001b[0m\n",
      "[I 2025-08-27 12:45:22,464] Trial 12 finished with value: 0.565 and parameters: {'learning_rate': 0.07186384123660489, 'depth': 8, 'l2_leaf_reg': 1.347215194590903}. Best is trial 9 with value: 0.562.\n"
     ]
    },
    {
     "name": "stdout",
     "output_type": "stream",
     "text": [
      "🏃 View run Catboost_optuna_iteration_12 at: http://127.0.0.1:8080/#/experiments/677703609984501005/runs/43276a2e281248ec9ec83da115627b47\n",
      "🧪 View experiment at: http://127.0.0.1:8080/#/experiments/677703609984501005\n"
     ]
    },
    {
     "name": "stderr",
     "output_type": "stream",
     "text": [
      "\u001b[31m2025/08/27 12:45:23 WARNING mlflow.models.model: Model logged without a signature and input example. Please set `input_example` parameter when logging the model to auto infer the model signature.\u001b[0m\n",
      "[I 2025-08-27 12:45:23,958] Trial 13 finished with value: 0.566 and parameters: {'learning_rate': 0.05710611463977297, 'depth': 9, 'l2_leaf_reg': 4.2048210100149435}. Best is trial 9 with value: 0.562.\n"
     ]
    },
    {
     "name": "stdout",
     "output_type": "stream",
     "text": [
      "🏃 View run Catboost_optuna_iteration_13 at: http://127.0.0.1:8080/#/experiments/677703609984501005/runs/4e03a75f970e43539099759e6ea9bf8d\n",
      "🧪 View experiment at: http://127.0.0.1:8080/#/experiments/677703609984501005\n"
     ]
    },
    {
     "name": "stderr",
     "output_type": "stream",
     "text": [
      "\u001b[31m2025/08/27 12:45:25 WARNING mlflow.models.model: Model logged without a signature and input example. Please set `input_example` parameter when logging the model to auto infer the model signature.\u001b[0m\n",
      "[I 2025-08-27 12:45:25,352] Trial 14 finished with value: 0.593 and parameters: {'learning_rate': 0.02539103142171328, 'depth': 9, 'l2_leaf_reg': 2.57693774467556}. Best is trial 9 with value: 0.562.\n"
     ]
    },
    {
     "name": "stdout",
     "output_type": "stream",
     "text": [
      "🏃 View run Catboost_optuna_iteration_14 at: http://127.0.0.1:8080/#/experiments/677703609984501005/runs/d41f70280b594843b3a8ddc9f62d4a83\n",
      "🧪 View experiment at: http://127.0.0.1:8080/#/experiments/677703609984501005\n"
     ]
    },
    {
     "name": "stderr",
     "output_type": "stream",
     "text": [
      "\u001b[31m2025/08/27 12:45:26 WARNING mlflow.models.model: Model logged without a signature and input example. Please set `input_example` parameter when logging the model to auto infer the model signature.\u001b[0m\n",
      "[I 2025-08-27 12:45:26,785] Trial 15 finished with value: 0.556 and parameters: {'learning_rate': 0.09672338830100866, 'depth': 9, 'l2_leaf_reg': 2.0093794150920257}. Best is trial 15 with value: 0.556.\n"
     ]
    },
    {
     "name": "stdout",
     "output_type": "stream",
     "text": [
      "🏃 View run Catboost_optuna_iteration_15 at: http://127.0.0.1:8080/#/experiments/677703609984501005/runs/e1ed1c90c117403e88c6501a4a0f2828\n",
      "🧪 View experiment at: http://127.0.0.1:8080/#/experiments/677703609984501005\n"
     ]
    },
    {
     "name": "stderr",
     "output_type": "stream",
     "text": [
      "\u001b[31m2025/08/27 12:45:28 WARNING mlflow.models.model: Model logged without a signature and input example. Please set `input_example` parameter when logging the model to auto infer the model signature.\u001b[0m\n",
      "[I 2025-08-27 12:45:28,106] Trial 16 finished with value: 0.572 and parameters: {'learning_rate': 0.11752482442830568, 'depth': 7, 'l2_leaf_reg': 1.4450336538325919}. Best is trial 15 with value: 0.556.\n"
     ]
    },
    {
     "name": "stdout",
     "output_type": "stream",
     "text": [
      "🏃 View run Catboost_optuna_iteration_16 at: http://127.0.0.1:8080/#/experiments/677703609984501005/runs/a4aabba72dbd496d97bfc7f771dd4298\n",
      "🧪 View experiment at: http://127.0.0.1:8080/#/experiments/677703609984501005\n"
     ]
    },
    {
     "name": "stderr",
     "output_type": "stream",
     "text": [
      "\u001b[31m2025/08/27 12:45:29 WARNING mlflow.models.model: Model logged without a signature and input example. Please set `input_example` parameter when logging the model to auto infer the model signature.\u001b[0m\n",
      "[I 2025-08-27 12:45:29,561] Trial 17 finished with value: 0.566 and parameters: {'learning_rate': 0.10435882230584731, 'depth': 7, 'l2_leaf_reg': 4.499440220053293}. Best is trial 15 with value: 0.556.\n"
     ]
    },
    {
     "name": "stdout",
     "output_type": "stream",
     "text": [
      "🏃 View run Catboost_optuna_iteration_17 at: http://127.0.0.1:8080/#/experiments/677703609984501005/runs/8fa6e30de4d345bfa756b9a9c988e193\n",
      "🧪 View experiment at: http://127.0.0.1:8080/#/experiments/677703609984501005\n"
     ]
    },
    {
     "name": "stderr",
     "output_type": "stream",
     "text": [
      "\u001b[31m2025/08/27 12:45:30 WARNING mlflow.models.model: Model logged without a signature and input example. Please set `input_example` parameter when logging the model to auto infer the model signature.\u001b[0m\n",
      "[I 2025-08-27 12:45:31,047] Trial 18 finished with value: 0.558 and parameters: {'learning_rate': 0.1837352199766314, 'depth': 9, 'l2_leaf_reg': 8.133778989170452}. Best is trial 15 with value: 0.556.\n"
     ]
    },
    {
     "name": "stdout",
     "output_type": "stream",
     "text": [
      "🏃 View run Catboost_optuna_iteration_18 at: http://127.0.0.1:8080/#/experiments/677703609984501005/runs/17badc1204804d458dfb267fcf9abe81\n",
      "🧪 View experiment at: http://127.0.0.1:8080/#/experiments/677703609984501005\n"
     ]
    },
    {
     "name": "stderr",
     "output_type": "stream",
     "text": [
      "\u001b[31m2025/08/27 12:45:32 WARNING mlflow.models.model: Model logged without a signature and input example. Please set `input_example` parameter when logging the model to auto infer the model signature.\u001b[0m\n",
      "[I 2025-08-27 12:45:32,546] Trial 19 finished with value: 0.595 and parameters: {'learning_rate': 0.29596284206078866, 'depth': 10, 'l2_leaf_reg': 8.471764723828645}. Best is trial 15 with value: 0.556.\n"
     ]
    },
    {
     "name": "stdout",
     "output_type": "stream",
     "text": [
      "🏃 View run Catboost_optuna_iteration_19 at: http://127.0.0.1:8080/#/experiments/677703609984501005/runs/3cc7e20a57db49678233c450d23856ff\n",
      "🧪 View experiment at: http://127.0.0.1:8080/#/experiments/677703609984501005\n"
     ]
    },
    {
     "name": "stderr",
     "output_type": "stream",
     "text": [
      "\u001b[31m2025/08/27 12:45:33 WARNING mlflow.models.model: Model logged without a signature and input example. Please set `input_example` parameter when logging the model to auto infer the model signature.\u001b[0m\n",
      "[I 2025-08-27 12:45:33,973] Trial 20 finished with value: 0.574 and parameters: {'learning_rate': 0.18348783233288368, 'depth': 9, 'l2_leaf_reg': 8.333053471044082}. Best is trial 15 with value: 0.556.\n"
     ]
    },
    {
     "name": "stdout",
     "output_type": "stream",
     "text": [
      "🏃 View run Catboost_optuna_iteration_20 at: http://127.0.0.1:8080/#/experiments/677703609984501005/runs/f83d3f4d72d148b2b3b43ba36ebc6190\n",
      "🧪 View experiment at: http://127.0.0.1:8080/#/experiments/677703609984501005\n"
     ]
    },
    {
     "name": "stderr",
     "output_type": "stream",
     "text": [
      "\u001b[31m2025/08/27 12:45:35 WARNING mlflow.models.model: Model logged without a signature and input example. Please set `input_example` parameter when logging the model to auto infer the model signature.\u001b[0m\n",
      "[I 2025-08-27 12:45:35,310] Trial 21 finished with value: 0.578 and parameters: {'learning_rate': 0.16195228630570985, 'depth': 8, 'l2_leaf_reg': 9.978832409877402}. Best is trial 15 with value: 0.556.\n"
     ]
    },
    {
     "name": "stdout",
     "output_type": "stream",
     "text": [
      "🏃 View run Catboost_optuna_iteration_21 at: http://127.0.0.1:8080/#/experiments/677703609984501005/runs/e12bb534226e437abeca5dfdf4929612\n",
      "🧪 View experiment at: http://127.0.0.1:8080/#/experiments/677703609984501005\n"
     ]
    },
    {
     "name": "stderr",
     "output_type": "stream",
     "text": [
      "\u001b[31m2025/08/27 12:45:36 WARNING mlflow.models.model: Model logged without a signature and input example. Please set `input_example` parameter when logging the model to auto infer the model signature.\u001b[0m\n",
      "[I 2025-08-27 12:45:36,703] Trial 22 finished with value: 0.568 and parameters: {'learning_rate': 0.07798353614492506, 'depth': 9, 'l2_leaf_reg': 5.14456034767506}. Best is trial 15 with value: 0.556.\n"
     ]
    },
    {
     "name": "stdout",
     "output_type": "stream",
     "text": [
      "🏃 View run Catboost_optuna_iteration_22 at: http://127.0.0.1:8080/#/experiments/677703609984501005/runs/350193e17226426990774d1ffce94b2b\n",
      "🧪 View experiment at: http://127.0.0.1:8080/#/experiments/677703609984501005\n"
     ]
    },
    {
     "name": "stderr",
     "output_type": "stream",
     "text": [
      "\u001b[31m2025/08/27 12:45:38 WARNING mlflow.models.model: Model logged without a signature and input example. Please set `input_example` parameter when logging the model to auto infer the model signature.\u001b[0m\n",
      "[I 2025-08-27 12:45:38,062] Trial 23 finished with value: 0.567 and parameters: {'learning_rate': 0.13487130212775789, 'depth': 8, 'l2_leaf_reg': 1.7314887116553872}. Best is trial 15 with value: 0.556.\n"
     ]
    },
    {
     "name": "stdout",
     "output_type": "stream",
     "text": [
      "🏃 View run Catboost_optuna_iteration_23 at: http://127.0.0.1:8080/#/experiments/677703609984501005/runs/5e12a8893d8446a1a18155ba8b4d10c8\n",
      "🧪 View experiment at: http://127.0.0.1:8080/#/experiments/677703609984501005\n"
     ]
    },
    {
     "name": "stderr",
     "output_type": "stream",
     "text": [
      "\u001b[31m2025/08/27 12:45:39 WARNING mlflow.models.model: Model logged without a signature and input example. Please set `input_example` parameter when logging the model to auto infer the model signature.\u001b[0m\n",
      "[I 2025-08-27 12:45:39,630] Trial 24 finished with value: 0.573 and parameters: {'learning_rate': 0.08732982437982302, 'depth': 10, 'l2_leaf_reg': 7.344343743413596}. Best is trial 15 with value: 0.556.\n"
     ]
    },
    {
     "name": "stdout",
     "output_type": "stream",
     "text": [
      "🏃 View run Catboost_optuna_iteration_24 at: http://127.0.0.1:8080/#/experiments/677703609984501005/runs/b38633f2734a4073a26deb97f4f93c72\n",
      "🧪 View experiment at: http://127.0.0.1:8080/#/experiments/677703609984501005\n"
     ]
    },
    {
     "name": "stderr",
     "output_type": "stream",
     "text": [
      "\u001b[31m2025/08/27 12:45:40 WARNING mlflow.models.model: Model logged without a signature and input example. Please set `input_example` parameter when logging the model to auto infer the model signature.\u001b[0m\n",
      "[I 2025-08-27 12:45:40,953] Trial 25 finished with value: 0.56 and parameters: {'learning_rate': 0.062063456685780956, 'depth': 7, 'l2_leaf_reg': 3.5547510645237077}. Best is trial 15 with value: 0.556.\n"
     ]
    },
    {
     "name": "stdout",
     "output_type": "stream",
     "text": [
      "🏃 View run Catboost_optuna_iteration_25 at: http://127.0.0.1:8080/#/experiments/677703609984501005/runs/331730f65bcd42d4a6bf73badf5a9651\n",
      "🧪 View experiment at: http://127.0.0.1:8080/#/experiments/677703609984501005\n"
     ]
    },
    {
     "name": "stderr",
     "output_type": "stream",
     "text": [
      "\u001b[31m2025/08/27 12:45:42 WARNING mlflow.models.model: Model logged without a signature and input example. Please set `input_example` parameter when logging the model to auto infer the model signature.\u001b[0m\n",
      "[I 2025-08-27 12:45:42,340] Trial 26 finished with value: 0.592 and parameters: {'learning_rate': 0.2086899224996805, 'depth': 7, 'l2_leaf_reg': 3.4021337686799744}. Best is trial 15 with value: 0.556.\n"
     ]
    },
    {
     "name": "stdout",
     "output_type": "stream",
     "text": [
      "🏃 View run Catboost_optuna_iteration_26 at: http://127.0.0.1:8080/#/experiments/677703609984501005/runs/5d521dc7e1184740b662c9753403790d\n",
      "🧪 View experiment at: http://127.0.0.1:8080/#/experiments/677703609984501005\n"
     ]
    },
    {
     "name": "stderr",
     "output_type": "stream",
     "text": [
      "\u001b[31m2025/08/27 12:45:43 WARNING mlflow.models.model: Model logged without a signature and input example. Please set `input_example` parameter when logging the model to auto infer the model signature.\u001b[0m\n",
      "[I 2025-08-27 12:45:43,699] Trial 27 finished with value: 0.573 and parameters: {'learning_rate': 0.1329085530372941, 'depth': 7, 'l2_leaf_reg': 3.5605971659223257}. Best is trial 15 with value: 0.556.\n"
     ]
    },
    {
     "name": "stdout",
     "output_type": "stream",
     "text": [
      "🏃 View run Catboost_optuna_iteration_27 at: http://127.0.0.1:8080/#/experiments/677703609984501005/runs/10c74a0faac84f54bff32d4ed244d513\n",
      "🧪 View experiment at: http://127.0.0.1:8080/#/experiments/677703609984501005\n"
     ]
    },
    {
     "name": "stderr",
     "output_type": "stream",
     "text": [
      "\u001b[31m2025/08/27 12:45:45 WARNING mlflow.models.model: Model logged without a signature and input example. Please set `input_example` parameter when logging the model to auto infer the model signature.\u001b[0m\n",
      "[I 2025-08-27 12:45:45,136] Trial 28 finished with value: 0.564 and parameters: {'learning_rate': 0.09194263980021311, 'depth': 9, 'l2_leaf_reg': 5.137041535688812}. Best is trial 15 with value: 0.556.\n"
     ]
    },
    {
     "name": "stdout",
     "output_type": "stream",
     "text": [
      "🏃 View run Catboost_optuna_iteration_28 at: http://127.0.0.1:8080/#/experiments/677703609984501005/runs/acd8aa9ad23c4e56a817dc5e28713ac4\n",
      "🧪 View experiment at: http://127.0.0.1:8080/#/experiments/677703609984501005\n"
     ]
    },
    {
     "name": "stderr",
     "output_type": "stream",
     "text": [
      "\u001b[31m2025/08/27 12:45:46 WARNING mlflow.models.model: Model logged without a signature and input example. Please set `input_example` parameter when logging the model to auto infer the model signature.\u001b[0m\n",
      "[I 2025-08-27 12:45:46,777] Trial 29 finished with value: 0.584 and parameters: {'learning_rate': 0.06267845792872966, 'depth': 10, 'l2_leaf_reg': 8.98997023752528}. Best is trial 15 with value: 0.556.\n"
     ]
    },
    {
     "name": "stdout",
     "output_type": "stream",
     "text": [
      "🏃 View run Catboost_optuna_iteration_29 at: http://127.0.0.1:8080/#/experiments/677703609984501005/runs/1d744460613147b7b97729a8942630f0\n",
      "🧪 View experiment at: http://127.0.0.1:8080/#/experiments/677703609984501005\n"
     ]
    },
    {
     "name": "stderr",
     "output_type": "stream",
     "text": [
      "\u001b[31m2025/08/27 12:45:48 WARNING mlflow.models.model: Model logged without a signature and input example. Please set `input_example` parameter when logging the model to auto infer the model signature.\u001b[0m\n",
      "[I 2025-08-27 12:45:48,113] Trial 30 finished with value: 0.573 and parameters: {'learning_rate': 0.03761753188744309, 'depth': 6, 'l2_leaf_reg': 6.998820753769471}. Best is trial 15 with value: 0.556.\n"
     ]
    },
    {
     "name": "stdout",
     "output_type": "stream",
     "text": [
      "🏃 View run Catboost_optuna_iteration_30 at: http://127.0.0.1:8080/#/experiments/677703609984501005/runs/d4d52fcc9b544fad93e2324cb0206afb\n",
      "🧪 View experiment at: http://127.0.0.1:8080/#/experiments/677703609984501005\n"
     ]
    },
    {
     "name": "stderr",
     "output_type": "stream",
     "text": [
      "\u001b[31m2025/08/27 12:45:49 WARNING mlflow.models.model: Model logged without a signature and input example. Please set `input_example` parameter when logging the model to auto infer the model signature.\u001b[0m\n",
      "[I 2025-08-27 12:45:49,471] Trial 31 finished with value: 0.571 and parameters: {'learning_rate': 0.04961718109516873, 'depth': 8, 'l2_leaf_reg': 1.8410484636196525}. Best is trial 15 with value: 0.556.\n"
     ]
    },
    {
     "name": "stdout",
     "output_type": "stream",
     "text": [
      "🏃 View run Catboost_optuna_iteration_31 at: http://127.0.0.1:8080/#/experiments/677703609984501005/runs/1bcc8cc963014d849253bcf3478de247\n",
      "🧪 View experiment at: http://127.0.0.1:8080/#/experiments/677703609984501005\n"
     ]
    },
    {
     "name": "stderr",
     "output_type": "stream",
     "text": [
      "\u001b[31m2025/08/27 12:45:50 WARNING mlflow.models.model: Model logged without a signature and input example. Please set `input_example` parameter when logging the model to auto infer the model signature.\u001b[0m\n",
      "[I 2025-08-27 12:45:50,840] Trial 32 finished with value: 0.566 and parameters: {'learning_rate': 0.06685138097762715, 'depth': 8, 'l2_leaf_reg': 2.091670467569017}. Best is trial 15 with value: 0.556.\n"
     ]
    },
    {
     "name": "stdout",
     "output_type": "stream",
     "text": [
      "🏃 View run Catboost_optuna_iteration_32 at: http://127.0.0.1:8080/#/experiments/677703609984501005/runs/ef9077621fb4460daf08dfb52c010330\n",
      "🧪 View experiment at: http://127.0.0.1:8080/#/experiments/677703609984501005\n"
     ]
    },
    {
     "name": "stderr",
     "output_type": "stream",
     "text": [
      "\u001b[31m2025/08/27 12:45:52 WARNING mlflow.models.model: Model logged without a signature and input example. Please set `input_example` parameter when logging the model to auto infer the model signature.\u001b[0m\n",
      "[I 2025-08-27 12:45:52,321] Trial 33 finished with value: 0.587 and parameters: {'learning_rate': 0.02770040573789249, 'depth': 9, 'l2_leaf_reg': 2.8273945769723783}. Best is trial 15 with value: 0.556.\n"
     ]
    },
    {
     "name": "stdout",
     "output_type": "stream",
     "text": [
      "🏃 View run Catboost_optuna_iteration_33 at: http://127.0.0.1:8080/#/experiments/677703609984501005/runs/8034ce3354914917aa3515bb3896979c\n",
      "🧪 View experiment at: http://127.0.0.1:8080/#/experiments/677703609984501005\n"
     ]
    },
    {
     "name": "stderr",
     "output_type": "stream",
     "text": [
      "\u001b[31m2025/08/27 12:45:53 WARNING mlflow.models.model: Model logged without a signature and input example. Please set `input_example` parameter when logging the model to auto infer the model signature.\u001b[0m\n",
      "[I 2025-08-27 12:45:53,856] Trial 34 finished with value: 0.578 and parameters: {'learning_rate': 0.05555697575774188, 'depth': 10, 'l2_leaf_reg': 2.0657801657717707}. Best is trial 15 with value: 0.556.\n"
     ]
    },
    {
     "name": "stdout",
     "output_type": "stream",
     "text": [
      "🏃 View run Catboost_optuna_iteration_34 at: http://127.0.0.1:8080/#/experiments/677703609984501005/runs/dd2cd32bdf04430e85104f9cd62bd9ce\n",
      "🧪 View experiment at: http://127.0.0.1:8080/#/experiments/677703609984501005\n"
     ]
    },
    {
     "name": "stderr",
     "output_type": "stream",
     "text": [
      "\u001b[31m2025/08/27 12:45:55 WARNING mlflow.models.model: Model logged without a signature and input example. Please set `input_example` parameter when logging the model to auto infer the model signature.\u001b[0m\n",
      "[I 2025-08-27 12:45:55,151] Trial 35 finished with value: 0.573 and parameters: {'learning_rate': 0.09239698231223484, 'depth': 7, 'l2_leaf_reg': 3.219866506154216}. Best is trial 15 with value: 0.556.\n"
     ]
    },
    {
     "name": "stdout",
     "output_type": "stream",
     "text": [
      "🏃 View run Catboost_optuna_iteration_35 at: http://127.0.0.1:8080/#/experiments/677703609984501005/runs/d6fc11c57eab43e5ab77550d0fb2132c\n",
      "🧪 View experiment at: http://127.0.0.1:8080/#/experiments/677703609984501005\n"
     ]
    },
    {
     "name": "stderr",
     "output_type": "stream",
     "text": [
      "\u001b[31m2025/08/27 12:45:56 WARNING mlflow.models.model: Model logged without a signature and input example. Please set `input_example` parameter when logging the model to auto infer the model signature.\u001b[0m\n",
      "[I 2025-08-27 12:45:56,477] Trial 36 finished with value: 0.573 and parameters: {'learning_rate': 0.03962913996825942, 'depth': 5, 'l2_leaf_reg': 2.2228039618690874}. Best is trial 15 with value: 0.556.\n"
     ]
    },
    {
     "name": "stdout",
     "output_type": "stream",
     "text": [
      "🏃 View run Catboost_optuna_iteration_36 at: http://127.0.0.1:8080/#/experiments/677703609984501005/runs/ec660f7bb2694199bfda73bdb38f2deb\n",
      "🧪 View experiment at: http://127.0.0.1:8080/#/experiments/677703609984501005\n"
     ]
    },
    {
     "name": "stderr",
     "output_type": "stream",
     "text": [
      "\u001b[31m2025/08/27 12:45:57 WARNING mlflow.models.model: Model logged without a signature and input example. Please set `input_example` parameter when logging the model to auto infer the model signature.\u001b[0m\n",
      "[I 2025-08-27 12:45:57,729] Trial 37 finished with value: 0.566 and parameters: {'learning_rate': 0.14233653116985945, 'depth': 4, 'l2_leaf_reg': 5.994678501559357}. Best is trial 15 with value: 0.556.\n"
     ]
    },
    {
     "name": "stdout",
     "output_type": "stream",
     "text": [
      "🏃 View run Catboost_optuna_iteration_37 at: http://127.0.0.1:8080/#/experiments/677703609984501005/runs/ab997ab4882f41b6b3c44030d1e80208\n",
      "🧪 View experiment at: http://127.0.0.1:8080/#/experiments/677703609984501005\n"
     ]
    },
    {
     "name": "stderr",
     "output_type": "stream",
     "text": [
      "\u001b[31m2025/08/27 12:45:59 WARNING mlflow.models.model: Model logged without a signature and input example. Please set `input_example` parameter when logging the model to auto infer the model signature.\u001b[0m\n",
      "[I 2025-08-27 12:45:59,100] Trial 38 finished with value: 0.579 and parameters: {'learning_rate': 0.11006384936785527, 'depth': 8, 'l2_leaf_reg': 1.0455235471932482}. Best is trial 15 with value: 0.556.\n"
     ]
    },
    {
     "name": "stdout",
     "output_type": "stream",
     "text": [
      "🏃 View run Catboost_optuna_iteration_38 at: http://127.0.0.1:8080/#/experiments/677703609984501005/runs/59726e426185495996fd5cd449666de9\n",
      "🧪 View experiment at: http://127.0.0.1:8080/#/experiments/677703609984501005\n"
     ]
    },
    {
     "name": "stderr",
     "output_type": "stream",
     "text": [
      "\u001b[31m2025/08/27 12:46:00 WARNING mlflow.models.model: Model logged without a signature and input example. Please set `input_example` parameter when logging the model to auto infer the model signature.\u001b[0m\n",
      "[I 2025-08-27 12:46:00,509] Trial 39 finished with value: 0.56 and parameters: {'learning_rate': 0.23979317837460828, 'depth': 9, 'l2_leaf_reg': 4.134106001587102}. Best is trial 15 with value: 0.556.\n"
     ]
    },
    {
     "name": "stdout",
     "output_type": "stream",
     "text": [
      "🏃 View run Catboost_optuna_iteration_39 at: http://127.0.0.1:8080/#/experiments/677703609984501005/runs/b4ec01cb47164547b1b1635c8fc5b21d\n",
      "🧪 View experiment at: http://127.0.0.1:8080/#/experiments/677703609984501005\n"
     ]
    },
    {
     "name": "stderr",
     "output_type": "stream",
     "text": [
      "\u001b[31m2025/08/27 12:46:02 WARNING mlflow.models.model: Model logged without a signature and input example. Please set `input_example` parameter when logging the model to auto infer the model signature.\u001b[0m\n",
      "[I 2025-08-27 12:46:02,101] Trial 40 finished with value: 0.571 and parameters: {'learning_rate': 0.21397443697466811, 'depth': 10, 'l2_leaf_reg': 4.843465157754345}. Best is trial 15 with value: 0.556.\n"
     ]
    },
    {
     "name": "stdout",
     "output_type": "stream",
     "text": [
      "🏃 View run Catboost_optuna_iteration_40 at: http://127.0.0.1:8080/#/experiments/677703609984501005/runs/b81b5fca4b724110b1dda2237422b1d9\n",
      "🧪 View experiment at: http://127.0.0.1:8080/#/experiments/677703609984501005\n"
     ]
    },
    {
     "name": "stderr",
     "output_type": "stream",
     "text": [
      "\u001b[31m2025/08/27 12:46:03 WARNING mlflow.models.model: Model logged without a signature and input example. Please set `input_example` parameter when logging the model to auto infer the model signature.\u001b[0m\n",
      "[I 2025-08-27 12:46:03,546] Trial 41 finished with value: 0.59 and parameters: {'learning_rate': 0.2846583896897537, 'depth': 9, 'l2_leaf_reg': 3.868683363965411}. Best is trial 15 with value: 0.556.\n"
     ]
    },
    {
     "name": "stdout",
     "output_type": "stream",
     "text": [
      "🏃 View run Catboost_optuna_iteration_41 at: http://127.0.0.1:8080/#/experiments/677703609984501005/runs/eb924f3be04e4e0c98a705bdc9589424\n",
      "🧪 View experiment at: http://127.0.0.1:8080/#/experiments/677703609984501005\n"
     ]
    },
    {
     "name": "stderr",
     "output_type": "stream",
     "text": [
      "\u001b[31m2025/08/27 12:46:04 WARNING mlflow.models.model: Model logged without a signature and input example. Please set `input_example` parameter when logging the model to auto infer the model signature.\u001b[0m\n",
      "[I 2025-08-27 12:46:04,970] Trial 42 finished with value: 0.563 and parameters: {'learning_rate': 0.2406039739256781, 'depth': 9, 'l2_leaf_reg': 2.9035868965447067}. Best is trial 15 with value: 0.556.\n"
     ]
    },
    {
     "name": "stdout",
     "output_type": "stream",
     "text": [
      "🏃 View run Catboost_optuna_iteration_42 at: http://127.0.0.1:8080/#/experiments/677703609984501005/runs/3b2c5780111342fd86e22609c92df943\n",
      "🧪 View experiment at: http://127.0.0.1:8080/#/experiments/677703609984501005\n"
     ]
    },
    {
     "name": "stderr",
     "output_type": "stream",
     "text": [
      "\u001b[31m2025/08/27 12:46:06 WARNING mlflow.models.model: Model logged without a signature and input example. Please set `input_example` parameter when logging the model to auto infer the model signature.\u001b[0m\n",
      "[I 2025-08-27 12:46:06,327] Trial 43 finished with value: 0.551 and parameters: {'learning_rate': 0.16461139272031802, 'depth': 8, 'l2_leaf_reg': 4.063417976603828}. Best is trial 43 with value: 0.551.\n"
     ]
    },
    {
     "name": "stdout",
     "output_type": "stream",
     "text": [
      "🏃 View run Catboost_optuna_iteration_43 at: http://127.0.0.1:8080/#/experiments/677703609984501005/runs/e54948c0cc214727a823583d629c65fe\n",
      "🧪 View experiment at: http://127.0.0.1:8080/#/experiments/677703609984501005\n"
     ]
    },
    {
     "name": "stderr",
     "output_type": "stream",
     "text": [
      "\u001b[31m2025/08/27 12:46:07 WARNING mlflow.models.model: Model logged without a signature and input example. Please set `input_example` parameter when logging the model to auto infer the model signature.\u001b[0m\n",
      "[I 2025-08-27 12:46:07,745] Trial 44 finished with value: 0.582 and parameters: {'learning_rate': 0.16967815338691372, 'depth': 9, 'l2_leaf_reg': 4.0276643415442805}. Best is trial 43 with value: 0.551.\n"
     ]
    },
    {
     "name": "stdout",
     "output_type": "stream",
     "text": [
      "🏃 View run Catboost_optuna_iteration_44 at: http://127.0.0.1:8080/#/experiments/677703609984501005/runs/b723fb5eaa804ea5825fbf85bde01924\n",
      "🧪 View experiment at: http://127.0.0.1:8080/#/experiments/677703609984501005\n"
     ]
    },
    {
     "name": "stderr",
     "output_type": "stream",
     "text": [
      "\u001b[31m2025/08/27 12:46:09 WARNING mlflow.models.model: Model logged without a signature and input example. Please set `input_example` parameter when logging the model to auto infer the model signature.\u001b[0m\n",
      "[I 2025-08-27 12:46:09,134] Trial 45 finished with value: 0.57 and parameters: {'learning_rate': 0.1996511592157663, 'depth': 6, 'l2_leaf_reg': 6.065477502762828}. Best is trial 43 with value: 0.551.\n"
     ]
    },
    {
     "name": "stdout",
     "output_type": "stream",
     "text": [
      "🏃 View run Catboost_optuna_iteration_45 at: http://127.0.0.1:8080/#/experiments/677703609984501005/runs/9e63c647e90c4c3b92c760cc3857c33b\n",
      "🧪 View experiment at: http://127.0.0.1:8080/#/experiments/677703609984501005\n"
     ]
    },
    {
     "name": "stderr",
     "output_type": "stream",
     "text": [
      "\u001b[31m2025/08/27 12:46:10 WARNING mlflow.models.model: Model logged without a signature and input example. Please set `input_example` parameter when logging the model to auto infer the model signature.\u001b[0m\n",
      "[I 2025-08-27 12:46:10,540] Trial 46 finished with value: 0.574 and parameters: {'learning_rate': 0.14984901465905573, 'depth': 8, 'l2_leaf_reg': 4.54110049051632}. Best is trial 43 with value: 0.551.\n"
     ]
    },
    {
     "name": "stdout",
     "output_type": "stream",
     "text": [
      "🏃 View run Catboost_optuna_iteration_46 at: http://127.0.0.1:8080/#/experiments/677703609984501005/runs/af295675e5de4988bbc5b52de6097c42\n",
      "🧪 View experiment at: http://127.0.0.1:8080/#/experiments/677703609984501005\n"
     ]
    },
    {
     "name": "stderr",
     "output_type": "stream",
     "text": [
      "\u001b[31m2025/08/27 12:46:11 WARNING mlflow.models.model: Model logged without a signature and input example. Please set `input_example` parameter when logging the model to auto infer the model signature.\u001b[0m\n",
      "[I 2025-08-27 12:46:11,848] Trial 47 finished with value: 0.567 and parameters: {'learning_rate': 0.12466480786239399, 'depth': 7, 'l2_leaf_reg': 3.8161689440056277}. Best is trial 43 with value: 0.551.\n"
     ]
    },
    {
     "name": "stdout",
     "output_type": "stream",
     "text": [
      "🏃 View run Catboost_optuna_iteration_47 at: http://127.0.0.1:8080/#/experiments/677703609984501005/runs/4912c65d76224019b0373bea42cfe4c7\n",
      "🧪 View experiment at: http://127.0.0.1:8080/#/experiments/677703609984501005\n"
     ]
    },
    {
     "name": "stderr",
     "output_type": "stream",
     "text": [
      "\u001b[31m2025/08/27 12:46:13 WARNING mlflow.models.model: Model logged without a signature and input example. Please set `input_example` parameter when logging the model to auto infer the model signature.\u001b[0m\n",
      "[I 2025-08-27 12:46:13,304] Trial 48 finished with value: 0.566 and parameters: {'learning_rate': 0.24549414786515986, 'depth': 9, 'l2_leaf_reg': 5.495720049674533}. Best is trial 43 with value: 0.551.\n"
     ]
    },
    {
     "name": "stdout",
     "output_type": "stream",
     "text": [
      "🏃 View run Catboost_optuna_iteration_48 at: http://127.0.0.1:8080/#/experiments/677703609984501005/runs/281abccbd8c445a2b3bcf3fbd297e992\n",
      "🧪 View experiment at: http://127.0.0.1:8080/#/experiments/677703609984501005\n"
     ]
    },
    {
     "name": "stderr",
     "output_type": "stream",
     "text": [
      "\u001b[31m2025/08/27 12:46:14 WARNING mlflow.models.model: Model logged without a signature and input example. Please set `input_example` parameter when logging the model to auto infer the model signature.\u001b[0m\n",
      "[I 2025-08-27 12:46:14,663] Trial 49 finished with value: 0.568 and parameters: {'learning_rate': 0.07842255349941261, 'depth': 8, 'l2_leaf_reg': 3.215662322272498}. Best is trial 43 with value: 0.551.\n"
     ]
    },
    {
     "name": "stdout",
     "output_type": "stream",
     "text": [
      "🏃 View run Catboost_optuna_iteration_49 at: http://127.0.0.1:8080/#/experiments/677703609984501005/runs/cff1fc5e17c445239d1a50139aa4c565\n",
      "🧪 View experiment at: http://127.0.0.1:8080/#/experiments/677703609984501005\n",
      "Best validation RMSE: 0.5510\n",
      "Test RMSE: 0.5768\n",
      "🏃 View run Catboost_optuna at: http://127.0.0.1:8080/#/experiments/677703609984501005/runs/7517e09c15974f5b92eb030c9d9f268d\n",
      "🧪 View experiment at: http://127.0.0.1:8080/#/experiments/677703609984501005\n"
     ]
    }
   ],
   "source": [
    "run_name = 'Catboost_optuna'\n",
    "with mlflow.start_run(run_name=run_name):\n",
    "    np.random.seed(42)\n",
    "    # Create the study and optimize\n",
    "    study = optuna.create_study(direction=\"minimize\", sampler=optuna.samplers.TPESampler(seed=42))\n",
    "    study.optimize(\n",
    "        lambda trial: objective(trial, x_train, y_train, x_val, y_val, x_test, y_test),\n",
    "        n_trials=50\n",
    "    )\n",
    "    \n",
    "    # Log the best metrics and parameters from the parent run\n",
    "    mlflow.log_metric(\"best_rmse\", study.best_value)\n",
    "    mlflow.log_params(study.best_params)\n",
    "    mlflow.set_tag('best_model', 'true')\n",
    "    \n",
    "    # Train the best model with early stopping (more iterations)\n",
    "    best_params = study.best_params.copy()\n",
    "    best_params.update({\n",
    "        'iterations': 1000,  # More iterations for final model\n",
    "        'early_stopping_rounds': 50,  # Early stopping\n",
    "    })\n",
    "    \n",
    "    best_model = CatBoostRegressor(**best_params, random_seed=42)\n",
    "    best_model.fit(x_train, y_train, eval_set=[(x_val, y_val)], verbose=False)\n",
    "    \n",
    "    # Compute test score for the best model\n",
    "    y_pred_test = best_model.predict(x_test)\n",
    "    rmse_test = np.sqrt(mean_squared_error(y_test, y_pred_test))\n",
    "    \n",
    "    # Log the test score\n",
    "    mlflow.log_metric(\"rmse_test_best\", rmse_test)\n",
    "    \n",
    "    # Log the best model in the parent run\n",
    "    model_info = mlflow.sklearn.log_model(\n",
    "        sk_model=best_model,\n",
    "        name=\"best_catboost_model\",\n",
    "        input_example=x_train,\n",
    "        tags={'best_model': 'true'}\n",
    "    )\n",
    "    \n",
    "    print(f\"Best validation RMSE: {study.best_value:.4f}\")\n",
    "    print(f\"Test RMSE: {rmse_test:.4f}\")"
   ]
  },
  {
   "cell_type": "markdown",
   "id": "f0532ef6-0167-45cc-b4d7-03f505c54345",
   "metadata": {},
   "source": [
    "# Loading the best optuna model"
   ]
  },
  {
   "cell_type": "markdown",
   "id": "e42ab133",
   "metadata": {},
   "source": [
    "Now, note that when we run the parent run, we re-train the best optuna model on the entire training set and log a tag - best_mode: true. This allows us to easily load the best model, use it for predictions and consider moving the model to production."
   ]
  },
  {
   "cell_type": "code",
   "execution_count": 37,
   "id": "b2ad08c7",
   "metadata": {},
   "outputs": [
    {
     "data": {
      "application/vnd.jupyter.widget-view+json": {
       "model_id": "7b26478ba2d54435885300cd108d4bba",
       "version_major": 2,
       "version_minor": 0
      },
      "text/plain": [
       "Downloading artifacts:   0%|          | 0/7 [00:00<?, ?it/s]"
      ]
     },
     "metadata": {},
     "output_type": "display_data"
    },
    {
     "name": "stdout",
     "output_type": "stream",
     "text": [
      "RMSE on test set: 0.5767685743260196\n"
     ]
    }
   ],
   "source": [
    "# Search across all logged models for the tag\n",
    "top_models = mlflow.search_logged_models(\n",
    "    filter_string=\"tags.best_model = 'true'\",\n",
    "    order_by=[{\"field_name\": \"last_updated_timestamp\", \"ascending\": False}],\n",
    "    max_results=1\n",
    ")\n",
    "\n",
    "# Get the latest \"best_model\"\n",
    "best_model = top_models.iloc[0]\n",
    "\n",
    "# Extract the model URI\n",
    "model_uri = best_model['model_id']\n",
    "\n",
    "# Load it\n",
    "loaded_model = mlflow.pyfunc.load_model(f'models:/{model_uri}')\n",
    "\n",
    "# Use it\n",
    "y_pred = loaded_model.predict(x_test)\n",
    "rmse_test = np.sqrt(mean_squared_error(y_test, y_pred))\n",
    "print(f\"RMSE on test set: {rmse_test}\")"
   ]
  },
  {
   "cell_type": "markdown",
   "id": "0f773654",
   "metadata": {},
   "source": [
    "# Beyond basics - what do you need to log to MLflow?"
   ]
  },
  {
   "cell_type": "code",
   "execution_count": 41,
   "id": "da7f5d1d",
   "metadata": {},
   "outputs": [],
   "source": [
    "# Load datasets\n",
    "df = pd.read_csv('WineQT.csv', sep=',')\n",
    "\n",
    "# Split the data into training, validation, and test sets\n",
    "train, test = train_test_split(df, test_size=0.25, random_state=42)\n",
    "x_train = train.drop([\"quality\"], axis=1).values\n",
    "y_train = train[[\"quality\"]].values.ravel()\n",
    "x_test= test.drop([\"quality\"], axis=1).values\n",
    "y_test = test[[\"quality\"]].values.ravel()\n",
    "\n",
    "# Split the data into training and validation sets\n",
    "x_train, x_val, y_train, y_val = train_test_split(\n",
    "    x_train, y_train, test_size=0.2, random_state=42\n",
    ")"
   ]
  },
  {
   "cell_type": "markdown",
   "id": "29e4d10e",
   "metadata": {},
   "source": [
    "### Signatures and input examples"
   ]
  },
  {
   "cell_type": "code",
   "execution_count": null,
   "id": "5b33ed98",
   "metadata": {},
   "outputs": [
    {
     "data": {
      "text/plain": [
       "inputs: \n",
       "  [Tensor('float64', (-1, 12))]\n",
       "outputs: \n",
       "  [Tensor('float64', (-1,))]\n",
       "params: \n",
       "  None"
      ]
     },
     "execution_count": 43,
     "metadata": {},
     "output_type": "execute_result"
    }
   ],
   "source": [
    "# Setting hyperparameters for CatBoost\n",
    "catboost_params = {\n",
    "    'iterations': 100,\n",
    "    'learning_rate': 0.1,\n",
    "    'depth': 6,\n",
    "    'random_seed': 42,\n",
    "    'verbose': False\n",
    "}\n",
    "\n",
    "# Train the model and make predictions\n",
    "model = CatBoostRegressor(**catboost_params)\n",
    "model.fit(x_train, y_train)\n",
    "y_pred_test = model.predict(x_test)\n",
    "\n",
    "# Infer signature from data\n",
    "signature = infer_signature(x_test, y_pred_test)\n",
    "input_example = x_train[:5]\n",
    "\n",
    "# Start an MLflow run\n",
    "with mlflow.start_run(run_name='catboost_with_signature'):\n",
    "    \n",
    "    # Log CatBoost model with model example and signature\n",
    "        model_info = mlflow.catboost.log_model(\n",
    "            cb_model=trained_model,\n",
    "            name=\"wine_model_catboost\",\n",
    "            input_example=input_example,\n",
    "            signature=signature\n",
    "        )\n"
   ]
  },
  {
   "cell_type": "markdown",
   "id": "85d3799d",
   "metadata": {},
   "source": [
    "### Artifacts"
   ]
  },
  {
   "cell_type": "code",
   "execution_count": null,
   "id": "5eb9c7f5",
   "metadata": {},
   "outputs": [
    {
     "name": "stdout",
     "output_type": "stream",
     "text": [
      "🏃 View run lasso_artifacts at: http://127.0.0.1:8080/#/experiments/677703609984501005/runs/48e95d95802e470baf9423d98de8170a\n",
      "🧪 View experiment at: http://127.0.0.1:8080/#/experiments/677703609984501005\n"
     ]
    }
   ],
   "source": [
    "# --- Single parameter for Lasso\n",
    "alpha = 0.01  \n",
    "\n",
    "# --- Fit scaler separately\n",
    "scaler = StandardScaler()\n",
    "X_train_scaled = scaler.fit_transform(x_train)\n",
    "X_test_scaled  = scaler.transform(x_test)\n",
    "\n",
    "# --- Fit Lasso\n",
    "model = Lasso(alpha=alpha, random_state=42, max_iter=10000)\n",
    "model.fit(X_train_scaled, y_train)\n",
    "y_pred_test = model.predict(X_test_scaled)\n",
    "\n",
    "# --- Signature & input example (raw features as input)\n",
    "signature = infer_signature(x_test, y_pred_test)\n",
    "input_example = x_train[:5]\n",
    "\n",
    "# --- Local paths for artifacts\n",
    "run_tmp = Path(\"mlflow_local_artifacts\") / str(uuid.uuid4())\n",
    "run_tmp.mkdir(parents=True, exist_ok=True)\n",
    "scaler_path = run_tmp / \"standard_scaler.pkl\"\n",
    "plot_path   = run_tmp / \"pred_vs_true.png\"\n",
    "\n",
    "# Save scaler separately\n",
    "joblib.dump(scaler, scaler_path)\n"
   ]
  },
  {
   "cell_type": "code",
   "execution_count": null,
   "id": "5f6ce7dc",
   "metadata": {},
   "outputs": [],
   "source": [
    "# --- Plot Predicted vs True\n",
    "plt.figure(figsize=(6, 6))\n",
    "plt.scatter(y_test, y_pred_test, alpha=0.6)\n",
    "plt.xlabel(\"True values\")\n",
    "plt.ylabel(\"Predicted values\")\n",
    "plt.title(\"Predicted vs. True (Lasso)\")\n",
    "axis_min = min(np.min(y_test), np.min(y_pred_test))\n",
    "axis_max = max(np.max(y_test), np.max(y_pred_test))\n",
    "plt.plot([axis_min, axis_max], [axis_min, axis_max], linestyle=\"--\")\n",
    "plt.tight_layout()\n",
    "plt.savefig(plot_path, dpi=150)\n",
    "plt.close()\n",
    "\n",
    "# --- MLflow logging\n",
    "with mlflow.start_run(run_name=\"lasso_artifacts\"):\n",
    "    # Log artifacts (scaler + plot)\n",
    "    mlflow.log_artifact(str(scaler_path), artifact_path=\"artifacts\")\n",
    "    mlflow.log_artifact(str(plot_path),   artifact_path=\"artifacts\")\n",
    "\n",
    "    # Log Lasso model (trained on scaled inputs)\n",
    "    model_info = mlflow.sklearn.log_model(\n",
    "        sk_model=model,\n",
    "        name=\"wine_model_lasso\",\n",
    "        signature=signature,\n",
    "        input_example=input_example\n",
    "    )"
   ]
  }
 ],
 "metadata": {
  "kernelspec": {
   "display_name": "mlacademy-tutorials",
   "language": "python",
   "name": "python3"
  },
  "language_info": {
   "codemirror_mode": {
    "name": "ipython",
    "version": 3
   },
   "file_extension": ".py",
   "mimetype": "text/x-python",
   "name": "python",
   "nbconvert_exporter": "python",
   "pygments_lexer": "ipython3",
   "version": "3.11.13"
  }
 },
 "nbformat": 4,
 "nbformat_minor": 5
}
